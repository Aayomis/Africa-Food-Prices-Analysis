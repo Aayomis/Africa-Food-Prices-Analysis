{
 "cells": [
  {
   "cell_type": "markdown",
   "id": "17b7c0de-cad4-4799-ba44-cd951be1bbba",
   "metadata": {},
   "source": [
    "# PYTHON PROJECT\n",
    "## Africa Food Prices\n",
    "------\n",
    "\n",
    "Food prices refer to the average price of particular food commodities globally and across countries.\n",
    "\n",
    "The price of goods not only provide an important indicator of the balance between agricultural production and market demand, but also have strong impacts on food affordability and income.\n",
    "\n",
    "As we look through the Africa food prices dataset, we will be able to get insight from the data after performing EDA , asking and answering question using the dataset\n"
   ]
  },
  {
   "cell_type": "markdown",
   "id": "8bbf8b2d-674e-4085-af63-364be59410dc",
   "metadata": {},
   "source": [
    "## Setup The Environment\n",
    "-----"
   ]
  },
  {
   "cell_type": "code",
   "execution_count": 1,
   "id": "388a39ce-0e7e-4421-9e95-2934fe8f161d",
   "metadata": {},
   "outputs": [
    {
     "name": "stdout",
     "output_type": "stream",
     "text": [
      "done\n"
     ]
    }
   ],
   "source": [
    "from datetime import datetime\n",
    "import numpy as np\n",
    "import pandas as pd\n",
    "import seaborn as sns\n",
    "import matplotlib.pyplot as  plt\n",
    "%matplotlib inline\n",
    "import matplotlib\n",
    "print('done')\n"
   ]
  },
  {
   "cell_type": "markdown",
   "id": "988094ac-c0da-4721-adfe-c2fe609e639c",
   "metadata": {},
   "source": [
    "## Loading The Dataset\n",
    "-----\n",
    "Now we are ready to load the dataset. We will do this using the standard read_csv command from Pandas. Let's take a glimpse at how the data looks like."
   ]
  },
  {
   "cell_type": "code",
   "execution_count": 2,
   "id": "97f9d455-1340-4069-9924-5d712791a0c4",
   "metadata": {},
   "outputs": [
    {
     "data": {
      "text/html": [
       "<div>\n",
       "<style scoped>\n",
       "    .dataframe tbody tr th:only-of-type {\n",
       "        vertical-align: middle;\n",
       "    }\n",
       "\n",
       "    .dataframe tbody tr th {\n",
       "        vertical-align: top;\n",
       "    }\n",
       "\n",
       "    .dataframe thead th {\n",
       "        text-align: right;\n",
       "    }\n",
       "</style>\n",
       "<table border=\"1\" class=\"dataframe\">\n",
       "  <thead>\n",
       "    <tr style=\"text-align: right;\">\n",
       "      <th></th>\n",
       "      <th>Unnamed: 0</th>\n",
       "      <th>country_id</th>\n",
       "      <th>country</th>\n",
       "      <th>state_id</th>\n",
       "      <th>state</th>\n",
       "      <th>market_id</th>\n",
       "      <th>market</th>\n",
       "      <th>produce_id</th>\n",
       "      <th>produce</th>\n",
       "      <th>currency_id</th>\n",
       "      <th>currency</th>\n",
       "      <th>pt_id</th>\n",
       "      <th>market_type</th>\n",
       "      <th>um_unit_id</th>\n",
       "      <th>quantity</th>\n",
       "      <th>month</th>\n",
       "      <th>year</th>\n",
       "      <th>price</th>\n",
       "      <th>mp_commoditysource</th>\n",
       "    </tr>\n",
       "  </thead>\n",
       "  <tbody>\n",
       "    <tr>\n",
       "      <th>0</th>\n",
       "      <td>15427</td>\n",
       "      <td>4.0</td>\n",
       "      <td>Algeria</td>\n",
       "      <td>344</td>\n",
       "      <td>Alger</td>\n",
       "      <td>1794</td>\n",
       "      <td>Algiers</td>\n",
       "      <td>52</td>\n",
       "      <td>Rice - Retail</td>\n",
       "      <td>0.0</td>\n",
       "      <td>DZD</td>\n",
       "      <td>15</td>\n",
       "      <td>Retail</td>\n",
       "      <td>5</td>\n",
       "      <td>KG</td>\n",
       "      <td>4</td>\n",
       "      <td>2015</td>\n",
       "      <td>90.0</td>\n",
       "      <td>NaN</td>\n",
       "    </tr>\n",
       "    <tr>\n",
       "      <th>1</th>\n",
       "      <td>15428</td>\n",
       "      <td>4.0</td>\n",
       "      <td>Algeria</td>\n",
       "      <td>344</td>\n",
       "      <td>Alger</td>\n",
       "      <td>1794</td>\n",
       "      <td>Algiers</td>\n",
       "      <td>52</td>\n",
       "      <td>Rice - Retail</td>\n",
       "      <td>0.0</td>\n",
       "      <td>DZD</td>\n",
       "      <td>15</td>\n",
       "      <td>Retail</td>\n",
       "      <td>5</td>\n",
       "      <td>KG</td>\n",
       "      <td>5</td>\n",
       "      <td>2015</td>\n",
       "      <td>96.0</td>\n",
       "      <td>NaN</td>\n",
       "    </tr>\n",
       "    <tr>\n",
       "      <th>2</th>\n",
       "      <td>15429</td>\n",
       "      <td>4.0</td>\n",
       "      <td>Algeria</td>\n",
       "      <td>344</td>\n",
       "      <td>Alger</td>\n",
       "      <td>1794</td>\n",
       "      <td>Algiers</td>\n",
       "      <td>52</td>\n",
       "      <td>Rice - Retail</td>\n",
       "      <td>0.0</td>\n",
       "      <td>DZD</td>\n",
       "      <td>15</td>\n",
       "      <td>Retail</td>\n",
       "      <td>5</td>\n",
       "      <td>KG</td>\n",
       "      <td>6</td>\n",
       "      <td>2015</td>\n",
       "      <td>96.0</td>\n",
       "      <td>NaN</td>\n",
       "    </tr>\n",
       "  </tbody>\n",
       "</table>\n",
       "</div>"
      ],
      "text/plain": [
       "   Unnamed: 0  country_id  country  state_id  state  market_id   market  \\\n",
       "0       15427         4.0  Algeria       344  Alger       1794  Algiers   \n",
       "1       15428         4.0  Algeria       344  Alger       1794  Algiers   \n",
       "2       15429         4.0  Algeria       344  Alger       1794  Algiers   \n",
       "\n",
       "   produce_id        produce  currency_id currency  pt_id market_type  \\\n",
       "0          52  Rice - Retail          0.0      DZD     15      Retail   \n",
       "1          52  Rice - Retail          0.0      DZD     15      Retail   \n",
       "2          52  Rice - Retail          0.0      DZD     15      Retail   \n",
       "\n",
       "   um_unit_id quantity  month  year  price  mp_commoditysource  \n",
       "0           5       KG      4  2015   90.0                 NaN  \n",
       "1           5       KG      5  2015   96.0                 NaN  \n",
       "2           5       KG      6  2015   96.0                 NaN  "
      ]
     },
     "execution_count": 2,
     "metadata": {},
     "output_type": "execute_result"
    }
   ],
   "source": [
    "food_df = pd.read_csv('./dataset/food.csv')\n",
    "food_df.head(3)"
   ]
  },
  {
   "cell_type": "markdown",
   "id": "d5d7737e-d606-4ecb-9e68-de15bf2e1e99",
   "metadata": {},
   "source": [
    "## Columns Information\n",
    "-----\n",
    "The Columns needed to be specified\n",
    "* pt_id = Market type id\n",
    "* um_unit_id = Measurement id\n"
   ]
  },
  {
   "cell_type": "markdown",
   "id": "55cd41f7-b464-4d66-9a32-f459e2bb073b",
   "metadata": {},
   "source": [
    "After a good look at the dataset,it looks like we need to do some data preparation and cleaning."
   ]
  },
  {
   "cell_type": "markdown",
   "id": "b032e326-84fe-445b-a389-1596d1f57d95",
   "metadata": {},
   "source": [
    "## Data Preparation and Cleaning"
   ]
  },
  {
   "cell_type": "code",
   "execution_count": 3,
   "id": "1f64e173-bd9f-4a0f-a5b6-63451e227a60",
   "metadata": {},
   "outputs": [
    {
     "name": "stdout",
     "output_type": "stream",
     "text": [
      "<class 'pandas.core.frame.DataFrame'>\n",
      "RangeIndex: 956779 entries, 0 to 956778\n",
      "Data columns (total 19 columns):\n",
      " #   Column              Non-Null Count   Dtype  \n",
      "---  ------              --------------   -----  \n",
      " 0   Unnamed: 0          956779 non-null  int64  \n",
      " 1   country_id          956779 non-null  float64\n",
      " 2   country             956779 non-null  object \n",
      " 3   state_id            956779 non-null  int64  \n",
      " 4   state               830101 non-null  object \n",
      " 5   market_id           956779 non-null  int64  \n",
      " 6   market              956779 non-null  object \n",
      " 7   produce_id          956779 non-null  int64  \n",
      " 8   produce             956779 non-null  object \n",
      " 9   currency_id         956779 non-null  float64\n",
      " 10  currency            956779 non-null  object \n",
      " 11  pt_id               956779 non-null  int64  \n",
      " 12  market_type         956779 non-null  object \n",
      " 13  um_unit_id          956779 non-null  int64  \n",
      " 14  quantity            956779 non-null  object \n",
      " 15  month               956779 non-null  int64  \n",
      " 16  year                956779 non-null  int64  \n",
      " 17  price               956779 non-null  float64\n",
      " 18  mp_commoditysource  0 non-null       float64\n",
      "dtypes: float64(4), int64(8), object(7)\n",
      "memory usage: 138.7+ MB\n"
     ]
    }
   ],
   "source": [
    "food_df.info() # checking the information about the dataset"
   ]
  },
  {
   "cell_type": "markdown",
   "id": "fc3a2cac-2638-4e85-8bfa-2b844c84fe10",
   "metadata": {},
   "source": [
    "There are 956779 entries and 19 columns to work with for EDA.We can see a few columns that contain null values('state','mp_commoditysource')"
   ]
  },
  {
   "cell_type": "code",
   "execution_count": 4,
   "id": "7324b07e-f191-4f04-8611-67899f5fdc27",
   "metadata": {},
   "outputs": [
    {
     "data": {
      "text/plain": [
       "Unnamed: 0            956779\n",
       "country_id                42\n",
       "country                   42\n",
       "state_id                 393\n",
       "state                    311\n",
       "market_id               1703\n",
       "market                  1696\n",
       "produce_id               389\n",
       "produce                  457\n",
       "currency_id                1\n",
       "currency                  34\n",
       "pt_id                      3\n",
       "market_type                3\n",
       "um_unit_id                81\n",
       "quantity                  81\n",
       "month                     12\n",
       "year                      32\n",
       "price                 108546\n",
       "mp_commoditysource         0\n",
       "dtype: int64"
      ]
     },
     "execution_count": 4,
     "metadata": {},
     "output_type": "execute_result"
    }
   ],
   "source": [
    "food_df.nunique() # count the number of unique values"
   ]
  },
  {
   "cell_type": "markdown",
   "id": "6e42be5d-cf4f-4db7-814e-c8b6151436ad",
   "metadata": {},
   "source": [
    "We can see that for each columns,there a lot of different unique values for some of them.It makes sense that price is large since prices of foods tends to be different.market_id and market also contain considerable amount of unique values.\n",
    "From the data we can see that we have 42 different countries"
   ]
  },
  {
   "cell_type": "code",
   "execution_count": 5,
   "id": "8597d292-d07d-4239-8d07-bdbaa1569a73",
   "metadata": {},
   "outputs": [
    {
     "data": {
      "text/plain": [
       "Index(['Unnamed: 0', 'country_id', 'country', 'state_id', 'state', 'market_id',\n",
       "       'market', 'produce_id', 'produce', 'currency_id', 'currency', 'pt_id',\n",
       "       'market_type', 'um_unit_id', 'quantity', 'month', 'year', 'price',\n",
       "       'mp_commoditysource'],\n",
       "      dtype='object')"
      ]
     },
     "execution_count": 5,
     "metadata": {},
     "output_type": "execute_result"
    }
   ],
   "source": [
    "food_df.columns #to get the different columns"
   ]
  },
  {
   "cell_type": "code",
   "execution_count": 6,
   "id": "8523c758-c7e1-437a-b87d-e51c88e86243",
   "metadata": {},
   "outputs": [],
   "source": [
    "# Drop columns not needed in the analysis\n",
    "food_df.drop(['Unnamed: 0','mp_commoditysource'],axis = 'columns' ,inplace = True)"
   ]
  },
  {
   "cell_type": "markdown",
   "id": "59b6134c-6779-446e-9f13-f76c1cfecd12",
   "metadata": {},
   "source": [
    "# Dividing the countries to their subregions\n",
    "Africa is divided into five different regions\n",
    "- North africa\n",
    "- Eastern Africa\n",
    "- Central Africa\n",
    "- Southern Africa\n",
    "- Western Africa"
   ]
  },
  {
   "cell_type": "code",
   "execution_count": 7,
   "id": "b15990cd-4328-4677-a975-a8924f0f2c6a",
   "metadata": {},
   "outputs": [
    {
     "data": {
      "text/plain": [
       "array(['Algeria', 'Angola', 'Benin', 'Burundi', 'Cameroon', 'Cape Verde',\n",
       "       'Central African Republic', 'Chad', 'Congo', 'Djibouti', 'Egypt',\n",
       "       'Eritrea', 'Ethiopia', 'Gabon', 'Gambia', 'Ghana', 'Guinea',\n",
       "       'Guinea-Bissau', 'Kenya', 'Lesotho', 'Liberia', 'Libya',\n",
       "       'Madagascar', 'Malawi', 'Mali', 'Mauritania', 'Mozambique',\n",
       "       'Namibia', 'Niger', 'Nigeria', 'Rwanda', 'Senegal', 'Sierra Leone',\n",
       "       'Somalia', 'South Africa', 'South Sudan', 'Sudan', 'Swaziland',\n",
       "       'Togo', 'Uganda', 'Zambia', 'Zimbabwe'], dtype=object)"
      ]
     },
     "execution_count": 7,
     "metadata": {},
     "output_type": "execute_result"
    }
   ],
   "source": [
    "food_df.country.unique()"
   ]
  },
  {
   "cell_type": "code",
   "execution_count": 8,
   "id": "af2fd52a-853e-489d-80a0-8831df10ec67",
   "metadata": {},
   "outputs": [],
   "source": [
    "north = ['Algeria','Egypt','Sudan','Morocco','Tunisia','Libya']\n",
    "east = ['Burundi','Comoros','Djibouti','Eritrea','Ethiopia','Kenya','Madagascar','Malawi','Mauritius','Mozambique','Rwanda','Seychelles','Somalia','South Sudan','Uganda','Zambia','Zimbabwe']\n",
    "central = ['Angola','Cameroon','Chad','Congo','Central African Republic','Equatorial Guinea','Gabon']\n",
    "south = ['Botswana','Swaziland','Lesotho','Namibia','South Africa']\n",
    "west = ['Benin','Burkina Faso','Cape Verde','Ivory Coast','Gambia','Ghana','Guinea','Guinea-Bissau','Liberia','Mali','Mauritania','Niger','Nigeria','Senegal','Togo','Sierra Leone']"
   ]
  },
  {
   "cell_type": "code",
   "execution_count": 9,
   "id": "b819b5cb-1483-4ddc-9e02-ed591a2a3923",
   "metadata": {},
   "outputs": [],
   "source": [
    "north = ['Algeria','Egypt','Sudan','Morocco','Tunisia','Libya']\n",
    "east = ['Burundi','Comoros','Djibouti','Eritrea','Ethiopia','Kenya','Madagascar','Malawi','Mauritius','Mozambique','Rwanda','Seychelles','Somalia','South Sudan','Uganda','Zambia','Zimbabwe']\n",
    "central = ['Angola','Cameroon','Chad','Congo','Central African Republic','Equatorial Guinea','Gabon']\n",
    "south = ['Botswana','Swaziland','Lesotho','Namibia','South Africa']\n",
    "west = ['Benin','Burkina Faso','Cape Verde','Ivory Coast','Gambia','Ghana','Guinea','Guinea-Bissau','Liberia','Mali','Mauritania','Niger','Nigeria','Senegal','Togo','Sierra Leone']\n",
    "def region(reg):\n",
    "    for i in north:\n",
    "        if reg.country == i:\n",
    "            return 'north africa'\n",
    "    for i in east:\n",
    "        if reg.country == i:\n",
    "            return 'east africa'\n",
    "    for i in central:\n",
    "        if reg.country == i:\n",
    "            return 'central africa'\n",
    "    for i in south:\n",
    "        if reg.country == i:\n",
    "            return 'south africa'\n",
    "    for i in west:\n",
    "        if reg.country == i:\n",
    "            return 'west africa'\n",
    "    \n",
    "    \n",
    "food_df['region'] = food_df.apply(region,axis = 1)       "
   ]
  },
  {
   "cell_type": "code",
   "execution_count": 10,
   "id": "43832c40-ee13-4156-8e8a-b5fcc2eccc05",
   "metadata": {},
   "outputs": [
    {
     "data": {
      "text/html": [
       "<div>\n",
       "<style scoped>\n",
       "    .dataframe tbody tr th:only-of-type {\n",
       "        vertical-align: middle;\n",
       "    }\n",
       "\n",
       "    .dataframe tbody tr th {\n",
       "        vertical-align: top;\n",
       "    }\n",
       "\n",
       "    .dataframe thead th {\n",
       "        text-align: right;\n",
       "    }\n",
       "</style>\n",
       "<table border=\"1\" class=\"dataframe\">\n",
       "  <thead>\n",
       "    <tr style=\"text-align: right;\">\n",
       "      <th></th>\n",
       "      <th>country_id</th>\n",
       "      <th>country</th>\n",
       "      <th>state_id</th>\n",
       "      <th>state</th>\n",
       "      <th>market_id</th>\n",
       "      <th>market</th>\n",
       "      <th>produce_id</th>\n",
       "      <th>produce</th>\n",
       "      <th>currency_id</th>\n",
       "      <th>currency</th>\n",
       "      <th>pt_id</th>\n",
       "      <th>market_type</th>\n",
       "      <th>um_unit_id</th>\n",
       "      <th>quantity</th>\n",
       "      <th>month</th>\n",
       "      <th>year</th>\n",
       "      <th>price</th>\n",
       "      <th>region</th>\n",
       "    </tr>\n",
       "  </thead>\n",
       "  <tbody>\n",
       "    <tr>\n",
       "      <th>0</th>\n",
       "      <td>4.0</td>\n",
       "      <td>Algeria</td>\n",
       "      <td>344</td>\n",
       "      <td>Alger</td>\n",
       "      <td>1794</td>\n",
       "      <td>Algiers</td>\n",
       "      <td>52</td>\n",
       "      <td>Rice - Retail</td>\n",
       "      <td>0.0</td>\n",
       "      <td>DZD</td>\n",
       "      <td>15</td>\n",
       "      <td>Retail</td>\n",
       "      <td>5</td>\n",
       "      <td>KG</td>\n",
       "      <td>4</td>\n",
       "      <td>2015</td>\n",
       "      <td>90.0000</td>\n",
       "      <td>north africa</td>\n",
       "    </tr>\n",
       "    <tr>\n",
       "      <th>1</th>\n",
       "      <td>4.0</td>\n",
       "      <td>Algeria</td>\n",
       "      <td>344</td>\n",
       "      <td>Alger</td>\n",
       "      <td>1794</td>\n",
       "      <td>Algiers</td>\n",
       "      <td>52</td>\n",
       "      <td>Rice - Retail</td>\n",
       "      <td>0.0</td>\n",
       "      <td>DZD</td>\n",
       "      <td>15</td>\n",
       "      <td>Retail</td>\n",
       "      <td>5</td>\n",
       "      <td>KG</td>\n",
       "      <td>5</td>\n",
       "      <td>2015</td>\n",
       "      <td>96.0000</td>\n",
       "      <td>north africa</td>\n",
       "    </tr>\n",
       "    <tr>\n",
       "      <th>2</th>\n",
       "      <td>4.0</td>\n",
       "      <td>Algeria</td>\n",
       "      <td>344</td>\n",
       "      <td>Alger</td>\n",
       "      <td>1794</td>\n",
       "      <td>Algiers</td>\n",
       "      <td>52</td>\n",
       "      <td>Rice - Retail</td>\n",
       "      <td>0.0</td>\n",
       "      <td>DZD</td>\n",
       "      <td>15</td>\n",
       "      <td>Retail</td>\n",
       "      <td>5</td>\n",
       "      <td>KG</td>\n",
       "      <td>6</td>\n",
       "      <td>2015</td>\n",
       "      <td>96.0000</td>\n",
       "      <td>north africa</td>\n",
       "    </tr>\n",
       "    <tr>\n",
       "      <th>3</th>\n",
       "      <td>4.0</td>\n",
       "      <td>Algeria</td>\n",
       "      <td>344</td>\n",
       "      <td>Alger</td>\n",
       "      <td>1794</td>\n",
       "      <td>Algiers</td>\n",
       "      <td>52</td>\n",
       "      <td>Rice - Retail</td>\n",
       "      <td>0.0</td>\n",
       "      <td>DZD</td>\n",
       "      <td>15</td>\n",
       "      <td>Retail</td>\n",
       "      <td>5</td>\n",
       "      <td>KG</td>\n",
       "      <td>7</td>\n",
       "      <td>2015</td>\n",
       "      <td>83.0000</td>\n",
       "      <td>north africa</td>\n",
       "    </tr>\n",
       "    <tr>\n",
       "      <th>4</th>\n",
       "      <td>4.0</td>\n",
       "      <td>Algeria</td>\n",
       "      <td>344</td>\n",
       "      <td>Alger</td>\n",
       "      <td>1794</td>\n",
       "      <td>Algiers</td>\n",
       "      <td>52</td>\n",
       "      <td>Rice - Retail</td>\n",
       "      <td>0.0</td>\n",
       "      <td>DZD</td>\n",
       "      <td>15</td>\n",
       "      <td>Retail</td>\n",
       "      <td>5</td>\n",
       "      <td>KG</td>\n",
       "      <td>8</td>\n",
       "      <td>2015</td>\n",
       "      <td>80.0000</td>\n",
       "      <td>north africa</td>\n",
       "    </tr>\n",
       "    <tr>\n",
       "      <th>...</th>\n",
       "      <td>...</td>\n",
       "      <td>...</td>\n",
       "      <td>...</td>\n",
       "      <td>...</td>\n",
       "      <td>...</td>\n",
       "      <td>...</td>\n",
       "      <td>...</td>\n",
       "      <td>...</td>\n",
       "      <td>...</td>\n",
       "      <td>...</td>\n",
       "      <td>...</td>\n",
       "      <td>...</td>\n",
       "      <td>...</td>\n",
       "      <td>...</td>\n",
       "      <td>...</td>\n",
       "      <td>...</td>\n",
       "      <td>...</td>\n",
       "      <td>...</td>\n",
       "    </tr>\n",
       "    <tr>\n",
       "      <th>956774</th>\n",
       "      <td>271.0</td>\n",
       "      <td>Zimbabwe</td>\n",
       "      <td>3444</td>\n",
       "      <td>Midlands</td>\n",
       "      <td>5594</td>\n",
       "      <td>Mbilashaba</td>\n",
       "      <td>432</td>\n",
       "      <td>Beans (sugar) - Retail</td>\n",
       "      <td>0.0</td>\n",
       "      <td>ZWL</td>\n",
       "      <td>15</td>\n",
       "      <td>Retail</td>\n",
       "      <td>5</td>\n",
       "      <td>KG</td>\n",
       "      <td>6</td>\n",
       "      <td>2021</td>\n",
       "      <td>233.3333</td>\n",
       "      <td>east africa</td>\n",
       "    </tr>\n",
       "    <tr>\n",
       "      <th>956775</th>\n",
       "      <td>271.0</td>\n",
       "      <td>Zimbabwe</td>\n",
       "      <td>3444</td>\n",
       "      <td>Midlands</td>\n",
       "      <td>5594</td>\n",
       "      <td>Mbilashaba</td>\n",
       "      <td>539</td>\n",
       "      <td>Toothpaste - Retail</td>\n",
       "      <td>0.0</td>\n",
       "      <td>ZWL</td>\n",
       "      <td>15</td>\n",
       "      <td>Retail</td>\n",
       "      <td>116</td>\n",
       "      <td>100 ML</td>\n",
       "      <td>6</td>\n",
       "      <td>2021</td>\n",
       "      <td>112.5000</td>\n",
       "      <td>east africa</td>\n",
       "    </tr>\n",
       "    <tr>\n",
       "      <th>956776</th>\n",
       "      <td>271.0</td>\n",
       "      <td>Zimbabwe</td>\n",
       "      <td>3444</td>\n",
       "      <td>Midlands</td>\n",
       "      <td>5594</td>\n",
       "      <td>Mbilashaba</td>\n",
       "      <td>540</td>\n",
       "      <td>Laundry soap - Retail</td>\n",
       "      <td>0.0</td>\n",
       "      <td>ZWL</td>\n",
       "      <td>15</td>\n",
       "      <td>Retail</td>\n",
       "      <td>5</td>\n",
       "      <td>KG</td>\n",
       "      <td>6</td>\n",
       "      <td>2021</td>\n",
       "      <td>114.0000</td>\n",
       "      <td>east africa</td>\n",
       "    </tr>\n",
       "    <tr>\n",
       "      <th>956777</th>\n",
       "      <td>271.0</td>\n",
       "      <td>Zimbabwe</td>\n",
       "      <td>3444</td>\n",
       "      <td>Midlands</td>\n",
       "      <td>5594</td>\n",
       "      <td>Mbilashaba</td>\n",
       "      <td>541</td>\n",
       "      <td>Handwash soap - Retail</td>\n",
       "      <td>0.0</td>\n",
       "      <td>ZWL</td>\n",
       "      <td>15</td>\n",
       "      <td>Retail</td>\n",
       "      <td>66</td>\n",
       "      <td>250 G</td>\n",
       "      <td>6</td>\n",
       "      <td>2021</td>\n",
       "      <td>59.5000</td>\n",
       "      <td>east africa</td>\n",
       "    </tr>\n",
       "    <tr>\n",
       "      <th>956778</th>\n",
       "      <td>271.0</td>\n",
       "      <td>Zimbabwe</td>\n",
       "      <td>3444</td>\n",
       "      <td>Midlands</td>\n",
       "      <td>5594</td>\n",
       "      <td>Mbilashaba</td>\n",
       "      <td>887</td>\n",
       "      <td>Fish (kapenta) - Retail</td>\n",
       "      <td>0.0</td>\n",
       "      <td>ZWL</td>\n",
       "      <td>15</td>\n",
       "      <td>Retail</td>\n",
       "      <td>5</td>\n",
       "      <td>KG</td>\n",
       "      <td>6</td>\n",
       "      <td>2021</td>\n",
       "      <td>1200.0000</td>\n",
       "      <td>east africa</td>\n",
       "    </tr>\n",
       "  </tbody>\n",
       "</table>\n",
       "<p>956779 rows × 18 columns</p>\n",
       "</div>"
      ],
      "text/plain": [
       "        country_id   country  state_id     state  market_id      market  \\\n",
       "0              4.0   Algeria       344     Alger       1794     Algiers   \n",
       "1              4.0   Algeria       344     Alger       1794     Algiers   \n",
       "2              4.0   Algeria       344     Alger       1794     Algiers   \n",
       "3              4.0   Algeria       344     Alger       1794     Algiers   \n",
       "4              4.0   Algeria       344     Alger       1794     Algiers   \n",
       "...            ...       ...       ...       ...        ...         ...   \n",
       "956774       271.0  Zimbabwe      3444  Midlands       5594  Mbilashaba   \n",
       "956775       271.0  Zimbabwe      3444  Midlands       5594  Mbilashaba   \n",
       "956776       271.0  Zimbabwe      3444  Midlands       5594  Mbilashaba   \n",
       "956777       271.0  Zimbabwe      3444  Midlands       5594  Mbilashaba   \n",
       "956778       271.0  Zimbabwe      3444  Midlands       5594  Mbilashaba   \n",
       "\n",
       "        produce_id                  produce  currency_id currency  pt_id  \\\n",
       "0               52            Rice - Retail          0.0      DZD     15   \n",
       "1               52            Rice - Retail          0.0      DZD     15   \n",
       "2               52            Rice - Retail          0.0      DZD     15   \n",
       "3               52            Rice - Retail          0.0      DZD     15   \n",
       "4               52            Rice - Retail          0.0      DZD     15   \n",
       "...            ...                      ...          ...      ...    ...   \n",
       "956774         432   Beans (sugar) - Retail          0.0      ZWL     15   \n",
       "956775         539      Toothpaste - Retail          0.0      ZWL     15   \n",
       "956776         540    Laundry soap - Retail          0.0      ZWL     15   \n",
       "956777         541   Handwash soap - Retail          0.0      ZWL     15   \n",
       "956778         887  Fish (kapenta) - Retail          0.0      ZWL     15   \n",
       "\n",
       "       market_type  um_unit_id quantity  month  year      price        region  \n",
       "0           Retail           5       KG      4  2015    90.0000  north africa  \n",
       "1           Retail           5       KG      5  2015    96.0000  north africa  \n",
       "2           Retail           5       KG      6  2015    96.0000  north africa  \n",
       "3           Retail           5       KG      7  2015    83.0000  north africa  \n",
       "4           Retail           5       KG      8  2015    80.0000  north africa  \n",
       "...            ...         ...      ...    ...   ...        ...           ...  \n",
       "956774      Retail           5       KG      6  2021   233.3333   east africa  \n",
       "956775      Retail         116   100 ML      6  2021   112.5000   east africa  \n",
       "956776      Retail           5       KG      6  2021   114.0000   east africa  \n",
       "956777      Retail          66    250 G      6  2021    59.5000   east africa  \n",
       "956778      Retail           5       KG      6  2021  1200.0000   east africa  \n",
       "\n",
       "[956779 rows x 18 columns]"
      ]
     },
     "execution_count": 10,
     "metadata": {},
     "output_type": "execute_result"
    }
   ],
   "source": [
    "food_df"
   ]
  },
  {
   "cell_type": "code",
   "execution_count": 11,
   "id": "49ff32ed-0c9d-441d-a2ad-9222d3042542",
   "metadata": {},
   "outputs": [],
   "source": [
    "# To get trends with the price column we have to convert it to a uniform price column\n",
    "# we are going to use the current exchange rate for this uniform price column which will be in usd\n"
   ]
  },
  {
   "cell_type": "markdown",
   "id": "632d5507-2352-4ad5-8c70-78420b4873e4",
   "metadata": {},
   "source": [
    "## Handling Null Values\n"
   ]
  },
  {
   "cell_type": "code",
   "execution_count": 12,
   "id": "eae6b271-a9a9-434d-a934-4e7025c21fa1",
   "metadata": {},
   "outputs": [
    {
     "data": {
      "text/plain": [
       "True"
      ]
     },
     "execution_count": 12,
     "metadata": {},
     "output_type": "execute_result"
    }
   ],
   "source": [
    "food_df.isnull().values.any() # will tell us if there is null values"
   ]
  },
  {
   "cell_type": "code",
   "execution_count": 13,
   "id": "664849e8-d483-438b-a4ae-ae4551862fbd",
   "metadata": {},
   "outputs": [
    {
     "data": {
      "text/plain": [
       "126678"
      ]
     },
     "execution_count": 13,
     "metadata": {},
     "output_type": "execute_result"
    }
   ],
   "source": [
    "food_df.isnull().sum().sum() # it will give us the total null values in all the columns"
   ]
  },
  {
   "cell_type": "code",
   "execution_count": 14,
   "id": "2daf5dca-c9a7-49d8-96d1-c106a421efc5",
   "metadata": {},
   "outputs": [
    {
     "data": {
      "text/plain": [
       "country_id          0\n",
       "country             0\n",
       "state_id            0\n",
       "state          126678\n",
       "market_id           0\n",
       "market              0\n",
       "produce_id          0\n",
       "produce             0\n",
       "currency_id         0\n",
       "currency            0\n",
       "pt_id               0\n",
       "market_type         0\n",
       "um_unit_id          0\n",
       "quantity            0\n",
       "month               0\n",
       "year                0\n",
       "price               0\n",
       "region              0\n",
       "dtype: int64"
      ]
     },
     "execution_count": 14,
     "metadata": {},
     "output_type": "execute_result"
    }
   ],
   "source": [
    "food_df.isnull().sum() # it shows the different columns and their null values"
   ]
  },
  {
   "cell_type": "code",
   "execution_count": 15,
   "id": "a5249aca-ca35-481e-bcbb-1443c4a9ceb3",
   "metadata": {},
   "outputs": [
    {
     "data": {
      "image/png": "[encoded data removed]",
      "text/plain": [
       "<Figure size 432x288 with 1 Axes>"
      ]
     },
     "metadata": {
      "needs_background": "light"
     },
     "output_type": "display_data"
    }
   ],
   "source": [
    "# lets show the heatmap for the null values\n",
    "sns.heatmap(food_df.isnull(),cbar  = False)\n",
    "plt.title('Null Values Heatmap')\n",
    "plt.show()"
   ]
  },
  {
   "cell_type": "markdown",
   "id": "5037c26d-0bdb-40a8-b493-d26f758610dd",
   "metadata": {},
   "source": [
    "Above from the heatmap we can see that the null values are peculiar to the state alone.We will have to handle the null data before the EDA"
   ]
  },
  {
   "cell_type": "code",
   "execution_count": 16,
   "id": "64a3edf5-ab61-40b1-9981-121e7350a42e",
   "metadata": {},
   "outputs": [],
   "source": [
    "food_df['state'].fillna('No State',inplace = True)"
   ]
  },
  {
   "cell_type": "code",
   "execution_count": 17,
   "id": "7396df8e-403d-40d7-a265-88ef57976944",
   "metadata": {},
   "outputs": [
    {
     "data": {
      "text/plain": [
       "country_id     False\n",
       "country        False\n",
       "state_id       False\n",
       "state          False\n",
       "market_id      False\n",
       "market         False\n",
       "produce_id     False\n",
       "produce        False\n",
       "currency_id    False\n",
       "currency       False\n",
       "pt_id          False\n",
       "market_type    False\n",
       "um_unit_id     False\n",
       "quantity       False\n",
       "month          False\n",
       "year           False\n",
       "price          False\n",
       "region         False\n",
       "dtype: bool"
      ]
     },
     "execution_count": 17,
     "metadata": {},
     "output_type": "execute_result"
    }
   ],
   "source": [
    "food_df.isnull().any() # to confirm if we still have any null values"
   ]
  },
  {
   "cell_type": "code",
   "execution_count": 18,
   "id": "91ee3d94-1611-4651-9b6f-e751fba6cf21",
   "metadata": {},
   "outputs": [
    {
     "data": {
      "text/plain": [
       "array(['Algeria', 'Angola', 'Benin', 'Burundi', 'Cameroon', 'Cape Verde',\n",
       "       'Central African Republic', 'Chad', 'Congo', 'Djibouti', 'Egypt',\n",
       "       'Eritrea', 'Ethiopia', 'Gabon', 'Gambia', 'Ghana', 'Guinea',\n",
       "       'Guinea-Bissau', 'Kenya', 'Lesotho', 'Liberia', 'Libya',\n",
       "       'Madagascar', 'Malawi', 'Mali', 'Mauritania', 'Mozambique',\n",
       "       'Namibia', 'Niger', 'Nigeria', 'Rwanda', 'Senegal', 'Sierra Leone',\n",
       "       'Somalia', 'South Africa', 'South Sudan', 'Sudan', 'Swaziland',\n",
       "       'Togo', 'Uganda', 'Zambia', 'Zimbabwe'], dtype=object)"
      ]
     },
     "execution_count": 18,
     "metadata": {},
     "output_type": "execute_result"
    }
   ],
   "source": [
    "food_df.country.unique() # Checking the different countries we have"
   ]
  },
  {
   "cell_type": "code",
   "execution_count": 19,
   "id": "700b3635-eb9a-4480-849b-d424efc8a0de",
   "metadata": {},
   "outputs": [
    {
     "data": {
      "text/plain": [
       "country_id     float64\n",
       "country         object\n",
       "state_id         int64\n",
       "state           object\n",
       "market_id        int64\n",
       "market          object\n",
       "produce_id       int64\n",
       "produce         object\n",
       "currency_id    float64\n",
       "currency        object\n",
       "pt_id            int64\n",
       "market_type     object\n",
       "um_unit_id       int64\n",
       "quantity        object\n",
       "month            int64\n",
       "year             int64\n",
       "price          float64\n",
       "region          object\n",
       "dtype: object"
      ]
     },
     "execution_count": 19,
     "metadata": {},
     "output_type": "execute_result"
    }
   ],
   "source": [
    "# check the datatypes for all columns\n",
    "food_df.dtypes"
   ]
  },
  {
   "cell_type": "code",
   "execution_count": 20,
   "id": "4fef110d-e570-4061-b3d9-bb082bfbc031",
   "metadata": {},
   "outputs": [],
   "source": [
    "# from datetime import datetime\n",
    "#food_df['Date'] = food_df.apply(lambda row: datetime.strptime(f\"{int(row.month)}-{int(row.year)}\", '%m-%Y'), axis=1)"
   ]
  },
  {
   "cell_type": "code",
   "execution_count": 21,
   "id": "af675dd0-eb4c-456b-a373-f7852b2d45c6",
   "metadata": {},
   "outputs": [
    {
     "data": {
      "text/html": [
       "<div>\n",
       "<style scoped>\n",
       "    .dataframe tbody tr th:only-of-type {\n",
       "        vertical-align: middle;\n",
       "    }\n",
       "\n",
       "    .dataframe tbody tr th {\n",
       "        vertical-align: top;\n",
       "    }\n",
       "\n",
       "    .dataframe thead th {\n",
       "        text-align: right;\n",
       "    }\n",
       "</style>\n",
       "<table border=\"1\" class=\"dataframe\">\n",
       "  <thead>\n",
       "    <tr style=\"text-align: right;\">\n",
       "      <th></th>\n",
       "      <th>country_id</th>\n",
       "      <th>state_id</th>\n",
       "      <th>market_id</th>\n",
       "      <th>produce_id</th>\n",
       "      <th>currency_id</th>\n",
       "      <th>pt_id</th>\n",
       "      <th>um_unit_id</th>\n",
       "      <th>month</th>\n",
       "      <th>year</th>\n",
       "      <th>price</th>\n",
       "    </tr>\n",
       "  </thead>\n",
       "  <tbody>\n",
       "    <tr>\n",
       "      <th>count</th>\n",
       "      <td>956779.000000</td>\n",
       "      <td>956779.000000</td>\n",
       "      <td>956779.000000</td>\n",
       "      <td>956779.000000</td>\n",
       "      <td>956779.0</td>\n",
       "      <td>956779.000000</td>\n",
       "      <td>956779.000000</td>\n",
       "      <td>956779.000000</td>\n",
       "      <td>956779.000000</td>\n",
       "      <td>9.567790e+05</td>\n",
       "    </tr>\n",
       "    <tr>\n",
       "      <th>mean</th>\n",
       "      <td>1961.192782</td>\n",
       "      <td>22287.911831</td>\n",
       "      <td>1392.594222</td>\n",
       "      <td>186.141214</td>\n",
       "      <td>0.0</td>\n",
       "      <td>14.926716</td>\n",
       "      <td>14.017183</td>\n",
       "      <td>6.381471</td>\n",
       "      <td>2015.704015</td>\n",
       "      <td>4.128833e+03</td>\n",
       "    </tr>\n",
       "    <tr>\n",
       "      <th>std</th>\n",
       "      <td>10404.034922</td>\n",
       "      <td>98565.608270</td>\n",
       "      <td>1027.751212</td>\n",
       "      <td>165.401303</td>\n",
       "      <td>0.0</td>\n",
       "      <td>0.263570</td>\n",
       "      <td>24.437728</td>\n",
       "      <td>3.418025</td>\n",
       "      <td>4.603829</td>\n",
       "      <td>1.381840e+05</td>\n",
       "    </tr>\n",
       "    <tr>\n",
       "      <th>min</th>\n",
       "      <td>4.000000</td>\n",
       "      <td>0.000000</td>\n",
       "      <td>101.000000</td>\n",
       "      <td>50.000000</td>\n",
       "      <td>0.0</td>\n",
       "      <td>14.000000</td>\n",
       "      <td>5.000000</td>\n",
       "      <td>1.000000</td>\n",
       "      <td>1990.000000</td>\n",
       "      <td>0.000000e+00</td>\n",
       "    </tr>\n",
       "    <tr>\n",
       "      <th>25%</th>\n",
       "      <td>90.000000</td>\n",
       "      <td>1836.000000</td>\n",
       "      <td>528.000000</td>\n",
       "      <td>67.000000</td>\n",
       "      <td>0.0</td>\n",
       "      <td>15.000000</td>\n",
       "      <td>5.000000</td>\n",
       "      <td>3.000000</td>\n",
       "      <td>2013.000000</td>\n",
       "      <td>6.500000e+01</td>\n",
       "    </tr>\n",
       "    <tr>\n",
       "      <th>50%</th>\n",
       "      <td>155.000000</td>\n",
       "      <td>2209.000000</td>\n",
       "      <td>1078.000000</td>\n",
       "      <td>105.000000</td>\n",
       "      <td>0.0</td>\n",
       "      <td>15.000000</td>\n",
       "      <td>5.000000</td>\n",
       "      <td>6.000000</td>\n",
       "      <td>2017.000000</td>\n",
       "      <td>2.505714e+02</td>\n",
       "    </tr>\n",
       "    <tr>\n",
       "      <th>75%</th>\n",
       "      <td>205.000000</td>\n",
       "      <td>21971.000000</td>\n",
       "      <td>2281.000000</td>\n",
       "      <td>262.000000</td>\n",
       "      <td>0.0</td>\n",
       "      <td>15.000000</td>\n",
       "      <td>9.000000</td>\n",
       "      <td>9.000000</td>\n",
       "      <td>2020.000000</td>\n",
       "      <td>7.221005e+02</td>\n",
       "    </tr>\n",
       "    <tr>\n",
       "      <th>max</th>\n",
       "      <td>70001.000000</td>\n",
       "      <td>900003.000000</td>\n",
       "      <td>6081.000000</td>\n",
       "      <td>887.000000</td>\n",
       "      <td>0.0</td>\n",
       "      <td>17.000000</td>\n",
       "      <td>175.000000</td>\n",
       "      <td>12.000000</td>\n",
       "      <td>2021.000000</td>\n",
       "      <td>1.725000e+07</td>\n",
       "    </tr>\n",
       "  </tbody>\n",
       "</table>\n",
       "</div>"
      ],
      "text/plain": [
       "          country_id       state_id      market_id     produce_id  \\\n",
       "count  956779.000000  956779.000000  956779.000000  956779.000000   \n",
       "mean     1961.192782   22287.911831    1392.594222     186.141214   \n",
       "std     10404.034922   98565.608270    1027.751212     165.401303   \n",
       "min         4.000000       0.000000     101.000000      50.000000   \n",
       "25%        90.000000    1836.000000     528.000000      67.000000   \n",
       "50%       155.000000    2209.000000    1078.000000     105.000000   \n",
       "75%       205.000000   21971.000000    2281.000000     262.000000   \n",
       "max     70001.000000  900003.000000    6081.000000     887.000000   \n",
       "\n",
       "       currency_id          pt_id     um_unit_id          month  \\\n",
       "count     956779.0  956779.000000  956779.000000  956779.000000   \n",
       "mean           0.0      14.926716      14.017183       6.381471   \n",
       "std            0.0       0.263570      24.437728       3.418025   \n",
       "min            0.0      14.000000       5.000000       1.000000   \n",
       "25%            0.0      15.000000       5.000000       3.000000   \n",
       "50%            0.0      15.000000       5.000000       6.000000   \n",
       "75%            0.0      15.000000       9.000000       9.000000   \n",
       "max            0.0      17.000000     175.000000      12.000000   \n",
       "\n",
       "                year         price  \n",
       "count  956779.000000  9.567790e+05  \n",
       "mean     2015.704015  4.128833e+03  \n",
       "std         4.603829  1.381840e+05  \n",
       "min      1990.000000  0.000000e+00  \n",
       "25%      2013.000000  6.500000e+01  \n",
       "50%      2017.000000  2.505714e+02  \n",
       "75%      2020.000000  7.221005e+02  \n",
       "max      2021.000000  1.725000e+07  "
      ]
     },
     "execution_count": 21,
     "metadata": {},
     "output_type": "execute_result"
    }
   ],
   "source": [
    "# lets perform a little statistical work\n",
    "# using the describe function\n",
    "food_df.describe()"
   ]
  },
  {
   "cell_type": "markdown",
   "id": "60893a7d-751c-4b72-9df5-2951e7577761",
   "metadata": {},
   "source": [
    "We can see that the least year is 1990 and the highest is 2021"
   ]
  },
  {
   "cell_type": "code",
   "execution_count": 22,
   "id": "a4e5b0e8-9e77-47b2-a45e-d9d8cf833741",
   "metadata": {},
   "outputs": [
    {
     "data": {
      "text/html": [
       "<div>\n",
       "<style scoped>\n",
       "    .dataframe tbody tr th:only-of-type {\n",
       "        vertical-align: middle;\n",
       "    }\n",
       "\n",
       "    .dataframe tbody tr th {\n",
       "        vertical-align: top;\n",
       "    }\n",
       "\n",
       "    .dataframe thead th {\n",
       "        text-align: right;\n",
       "    }\n",
       "</style>\n",
       "<table border=\"1\" class=\"dataframe\">\n",
       "  <thead>\n",
       "    <tr style=\"text-align: right;\">\n",
       "      <th></th>\n",
       "      <th>country_id</th>\n",
       "      <th>country</th>\n",
       "      <th>state_id</th>\n",
       "      <th>state</th>\n",
       "      <th>market_id</th>\n",
       "      <th>market</th>\n",
       "      <th>produce_id</th>\n",
       "      <th>produce</th>\n",
       "      <th>currency_id</th>\n",
       "      <th>currency</th>\n",
       "      <th>pt_id</th>\n",
       "      <th>market_type</th>\n",
       "      <th>um_unit_id</th>\n",
       "      <th>quantity</th>\n",
       "      <th>month</th>\n",
       "      <th>year</th>\n",
       "      <th>price</th>\n",
       "      <th>region</th>\n",
       "    </tr>\n",
       "  </thead>\n",
       "  <tbody>\n",
       "    <tr>\n",
       "      <th>0</th>\n",
       "      <td>4.0</td>\n",
       "      <td>Algeria</td>\n",
       "      <td>344</td>\n",
       "      <td>Alger</td>\n",
       "      <td>1794</td>\n",
       "      <td>Algiers</td>\n",
       "      <td>52</td>\n",
       "      <td>Rice - Retail</td>\n",
       "      <td>0.0</td>\n",
       "      <td>DZD</td>\n",
       "      <td>15</td>\n",
       "      <td>Retail</td>\n",
       "      <td>5</td>\n",
       "      <td>KG</td>\n",
       "      <td>4</td>\n",
       "      <td>2015</td>\n",
       "      <td>90.0</td>\n",
       "      <td>north africa</td>\n",
       "    </tr>\n",
       "    <tr>\n",
       "      <th>1</th>\n",
       "      <td>4.0</td>\n",
       "      <td>Algeria</td>\n",
       "      <td>344</td>\n",
       "      <td>Alger</td>\n",
       "      <td>1794</td>\n",
       "      <td>Algiers</td>\n",
       "      <td>52</td>\n",
       "      <td>Rice - Retail</td>\n",
       "      <td>0.0</td>\n",
       "      <td>DZD</td>\n",
       "      <td>15</td>\n",
       "      <td>Retail</td>\n",
       "      <td>5</td>\n",
       "      <td>KG</td>\n",
       "      <td>5</td>\n",
       "      <td>2015</td>\n",
       "      <td>96.0</td>\n",
       "      <td>north africa</td>\n",
       "    </tr>\n",
       "    <tr>\n",
       "      <th>2</th>\n",
       "      <td>4.0</td>\n",
       "      <td>Algeria</td>\n",
       "      <td>344</td>\n",
       "      <td>Alger</td>\n",
       "      <td>1794</td>\n",
       "      <td>Algiers</td>\n",
       "      <td>52</td>\n",
       "      <td>Rice - Retail</td>\n",
       "      <td>0.0</td>\n",
       "      <td>DZD</td>\n",
       "      <td>15</td>\n",
       "      <td>Retail</td>\n",
       "      <td>5</td>\n",
       "      <td>KG</td>\n",
       "      <td>6</td>\n",
       "      <td>2015</td>\n",
       "      <td>96.0</td>\n",
       "      <td>north africa</td>\n",
       "    </tr>\n",
       "    <tr>\n",
       "      <th>3</th>\n",
       "      <td>4.0</td>\n",
       "      <td>Algeria</td>\n",
       "      <td>344</td>\n",
       "      <td>Alger</td>\n",
       "      <td>1794</td>\n",
       "      <td>Algiers</td>\n",
       "      <td>52</td>\n",
       "      <td>Rice - Retail</td>\n",
       "      <td>0.0</td>\n",
       "      <td>DZD</td>\n",
       "      <td>15</td>\n",
       "      <td>Retail</td>\n",
       "      <td>5</td>\n",
       "      <td>KG</td>\n",
       "      <td>7</td>\n",
       "      <td>2015</td>\n",
       "      <td>83.0</td>\n",
       "      <td>north africa</td>\n",
       "    </tr>\n",
       "    <tr>\n",
       "      <th>4</th>\n",
       "      <td>4.0</td>\n",
       "      <td>Algeria</td>\n",
       "      <td>344</td>\n",
       "      <td>Alger</td>\n",
       "      <td>1794</td>\n",
       "      <td>Algiers</td>\n",
       "      <td>52</td>\n",
       "      <td>Rice - Retail</td>\n",
       "      <td>0.0</td>\n",
       "      <td>DZD</td>\n",
       "      <td>15</td>\n",
       "      <td>Retail</td>\n",
       "      <td>5</td>\n",
       "      <td>KG</td>\n",
       "      <td>8</td>\n",
       "      <td>2015</td>\n",
       "      <td>80.0</td>\n",
       "      <td>north africa</td>\n",
       "    </tr>\n",
       "  </tbody>\n",
       "</table>\n",
       "</div>"
      ],
      "text/plain": [
       "   country_id  country  state_id  state  market_id   market  produce_id  \\\n",
       "0         4.0  Algeria       344  Alger       1794  Algiers          52   \n",
       "1         4.0  Algeria       344  Alger       1794  Algiers          52   \n",
       "2         4.0  Algeria       344  Alger       1794  Algiers          52   \n",
       "3         4.0  Algeria       344  Alger       1794  Algiers          52   \n",
       "4         4.0  Algeria       344  Alger       1794  Algiers          52   \n",
       "\n",
       "         produce  currency_id currency  pt_id market_type  um_unit_id  \\\n",
       "0  Rice - Retail          0.0      DZD     15      Retail           5   \n",
       "1  Rice - Retail          0.0      DZD     15      Retail           5   \n",
       "2  Rice - Retail          0.0      DZD     15      Retail           5   \n",
       "3  Rice - Retail          0.0      DZD     15      Retail           5   \n",
       "4  Rice - Retail          0.0      DZD     15      Retail           5   \n",
       "\n",
       "  quantity  month  year  price        region  \n",
       "0       KG      4  2015   90.0  north africa  \n",
       "1       KG      5  2015   96.0  north africa  \n",
       "2       KG      6  2015   96.0  north africa  \n",
       "3       KG      7  2015   83.0  north africa  \n",
       "4       KG      8  2015   80.0  north africa  "
      ]
     },
     "execution_count": 22,
     "metadata": {},
     "output_type": "execute_result"
    }
   ],
   "source": [
    "food_df.head()"
   ]
  },
  {
   "cell_type": "markdown",
   "id": "3f530425-4ad4-4f8c-aa72-076e8aae84b1",
   "metadata": {},
   "source": [
    "Lets take another look at the dataset"
   ]
  },
  {
   "cell_type": "markdown",
   "id": "e0b70251-7c59-46e7-9331-0f2876cf3778",
   "metadata": {},
   "source": [
    "# Data Visualization Of Whole Dataset"
   ]
  },
  {
   "cell_type": "code",
   "execution_count": 23,
   "id": "567118f8-5c15-45de-b75e-60759eefffea",
   "metadata": {},
   "outputs": [
    {
     "data": {
      "text/plain": [
       "country\n",
       "Rwanda        137746\n",
       "Mali           73843\n",
       "Burundi        60921\n",
       "Gambia         56971\n",
       "Niger          54974\n",
       "Nigeria        50285\n",
       "Zambia         42793\n",
       "Mozambique     42278\n",
       "Libya          41207\n",
       "Benin          39530\n",
       "Name: country_id, dtype: int64"
      ]
     },
     "execution_count": 23,
     "metadata": {},
     "output_type": "execute_result"
    }
   ],
   "source": [
    "# Top 10 countries with the most record\n",
    "top_10 = food_df.groupby(['country']).country_id.count().sort_values(ascending=False)[:10]\n",
    "top_10"
   ]
  },
  {
   "cell_type": "code",
   "execution_count": 24,
   "id": "14905c34-7805-42a2-a78a-c69d76e3d55f",
   "metadata": {},
   "outputs": [
    {
     "data": {
      "image/png": "[encoded data removed]",
      "text/plain": [
       "<Figure size 864x576 with 1 Axes>"
      ]
     },
     "metadata": {
      "needs_background": "light"
     },
     "output_type": "display_data"
    }
   ],
   "source": [
    "plt.figure(figsize=(12,8))\n",
    "sns.barplot(x = top_10.index,y=top_10.values)\n",
    "plt.xlabel('Country')\n",
    "plt.ylabel('Numbers of Records in the Dataset')\n",
    "plt.title('Top 10 Countries by most data records')\n",
    "plt.show()"
   ]
  },
  {
   "cell_type": "code",
   "execution_count": 25,
   "id": "f4c9c829-cd44-4486-b8f9-07fc1b87b711",
   "metadata": {},
   "outputs": [
    {
     "data": {
      "text/plain": [
       "produce\n",
       "Millet - Retail                  47476\n",
       "Rice (imported) - Retail         47022\n",
       "Sorghum - Retail                 44679\n",
       "Maize - Retail                   43073\n",
       "Maize (white) - Retail           33786\n",
       "Rice (local) - Retail            31126\n",
       "Groundnuts (shelled) - Retail    23221\n",
       "Beans (dry) - Retail             16173\n",
       "Beans (niebe) - Retail           15760\n",
       "Rice - Retail                    15513\n",
       "Oil (vegetable) - Retail         14799\n",
       "Wheat flour - Retail             13935\n",
       "Oil (palm) - Retail              13749\n",
       "Tomatoes - Retail                11562\n",
       "Cassava flour - Retail           11506\n",
       "Sugar - Retail                   11490\n",
       "Maize flour - Retail             11407\n",
       "Sweet potatoes - Retail          11208\n",
       "Bananas - Retail                 10775\n",
       "Beans - Retail                   10623\n",
       "Name: produce_id, dtype: int64"
      ]
     },
     "execution_count": 25,
     "metadata": {},
     "output_type": "execute_result"
    }
   ],
   "source": [
    "# Top 20 most reported commodities\n",
    "com_20 = food_df.groupby(['produce']).produce_id.count().sort_values(ascending = False)[:20]\n",
    "com_20"
   ]
  },
  {
   "cell_type": "code",
   "execution_count": 26,
   "id": "0db6525c-e0d1-41e2-9f5f-b50dcd9aeba3",
   "metadata": {},
   "outputs": [
    {
     "data": {
      "image/png": "[encoded data removed]",
      "text/plain": [
       "<Figure size 864x576 with 1 Axes>"
      ]
     },
     "metadata": {
      "needs_background": "light"
     },
     "output_type": "display_data"
    }
   ],
   "source": [
    "\n",
    "ax= com_20.plot(kind='bar', y = 'com_20.values',x ='com_20.index',    \n",
    "    legend = False,figsize=(12,8), fontsize=10)\n",
    "ax.set_xlabel(\"produce\",fontsize=10)\n",
    "ax.set_ylabel(\"RowCount\",fontsize=10)\n",
    "plt.show()"
   ]
  },
  {
   "cell_type": "code",
   "execution_count": 27,
   "id": "22dfacf4-04af-4819-b578-ea2a3c6050da",
   "metadata": {},
   "outputs": [
    {
     "data": {
      "text/plain": [
       "country\n",
       "Madagascar                  20\n",
       "Somalia                     18\n",
       "Uganda                      18\n",
       "Burundi                     17\n",
       "Central African Republic    16\n",
       "Liberia                     15\n",
       "Senegal                     14\n",
       "Nigeria                     14\n",
       "Sudan                       13\n",
       "Benin                       12\n",
       "Mauritania                  12\n",
       "Ethiopia                    11\n",
       "Zimbabwe                    10\n",
       "Lesotho                     10\n",
       "Ghana                       10\n",
       "Guinea-Bissau                9\n",
       "Zambia                       9\n",
       "Mali                         9\n",
       "Cameroon                     9\n",
       "Guinea                       8\n",
       "Namibia                      8\n",
       "Niger                        8\n",
       "Congo                        7\n",
       "Gambia                       6\n",
       "Kenya                        6\n",
       "Djibouti                     5\n",
       "Rwanda                       5\n",
       "Togo                         4\n",
       "Sierra Leone                 4\n",
       "Malawi                       3\n",
       "Cape Verde                   3\n",
       "Algeria                      2\n",
       "Angola                       2\n",
       "Eritrea                      2\n",
       "Mozambique                   1\n",
       "South Africa                 1\n",
       "South Sudan                  1\n",
       "Gabon                        1\n",
       "Swaziland                    1\n",
       "Egypt                        1\n",
       "Chad                         1\n",
       "Libya                        1\n",
       "Name: country_id, dtype: int64"
      ]
     },
     "execution_count": 27,
     "metadata": {},
     "output_type": "execute_result"
    }
   ],
   "source": [
    "# Unique state count for each country\n",
    "dups = food_df.drop_duplicates(['country','state'], keep = 'last')\n",
    "state_count = dups.groupby(['country']).count()\n",
    "d = state_count.sort_values('country_id',ascending = False)\n",
    "d['country_id']"
   ]
  },
  {
   "cell_type": "code",
   "execution_count": 28,
   "id": "f8b794c6-8157-49c8-8f7e-131d830e3904",
   "metadata": {},
   "outputs": [
    {
     "data": {
      "image/png": "[encoded data removed]",
      "text/plain": [
       "<Figure size 504x648 with 1 Axes>"
      ]
     },
     "metadata": {},
     "output_type": "display_data"
    }
   ],
   "source": [
    "plt.style.use('ggplot')\n",
    "plt.figure(figsize=(7,9))\n",
    "g = sns.barplot(x=d.country_id,y=d.index,data=d)\n",
    "plt.title('State Count For Each Country')\n",
    "plt.xlabel('State_count')\n",
    "plt.ylabel('Country')\n",
    "plt.show()"
   ]
  },
  {
   "cell_type": "code",
   "execution_count": 29,
   "id": "a7f8f995-2dda-4100-8f7c-6b7266aacf43",
   "metadata": {},
   "outputs": [
    {
     "data": {
      "text/plain": [
       "country\n",
       "Ethiopia         107\n",
       "Gambia            77\n",
       "Rwanda            67\n",
       "Cameroon          61\n",
       "Nigeria           58\n",
       "Benin             55\n",
       "South Sudan       53\n",
       "Guinea-Bissau     53\n",
       "Mali              48\n",
       "Ghana             47\n",
       "Name: produce_id, dtype: int64"
      ]
     },
     "execution_count": 29,
     "metadata": {},
     "output_type": "execute_result"
    }
   ],
   "source": [
    "dupss =  food_df.drop_duplicates(['country','produce'], keep = 'last') # droping duplicate values\n",
    "produce_count = dupss.groupby(['country']).count()\n",
    "p = produce_count.sort_values('produce_id',ascending = False)[:10]\n",
    "p['produce_id']"
   ]
  },
  {
   "cell_type": "code",
   "execution_count": 30,
   "id": "058a5158-1ef8-4767-aea6-23c85c4765d2",
   "metadata": {},
   "outputs": [
    {
     "data": {
      "image/png": "[encoded data removed]",
      "text/plain": [
       "<Figure size 504x648 with 1 Axes>"
      ]
     },
     "metadata": {},
     "output_type": "display_data"
    }
   ],
   "source": [
    "#The different kinds of product a country produced from 1990 - 2021\n",
    "plt.style.use('ggplot')\n",
    "plt.figure(figsize=(7,9))\n",
    "g = sns.barplot(x=p.produce_id,y=p.index,data=p)\n",
    "plt.title('Produce Count For Each Country')\n",
    "plt.xlabel('produce_count')\n",
    "plt.ylabel('Country')\n",
    "plt.show()"
   ]
  },
  {
   "cell_type": "code",
   "execution_count": 31,
   "id": "26542907-bb82-4375-86d1-d13987139b3c",
   "metadata": {},
   "outputs": [
    {
     "name": "stderr",
     "output_type": "stream",
     "text": [
      "C:\\anaconda\\lib\\site-packages\\seaborn\\_decorators.py:36: FutureWarning: Pass the following variable as a keyword arg: x. From version 0.12, the only valid positional argument will be `data`, and passing other arguments without an explicit keyword will result in an error or misinterpretation.\n",
      "  warnings.warn(\n"
     ]
    },
    {
     "data": {
      "image/png": "[encoded data removed]",
      "text/plain": [
       "<Figure size 1440x720 with 1 Axes>"
      ]
     },
     "metadata": {},
     "output_type": "display_data"
    }
   ],
   "source": [
    "plt.figure(figsize = (20,10))\n",
    "sns.countplot('year', data = food_df)\n",
    "plt.title('Total Game Produce Each Year')\n",
    "plt.show()"
   ]
  },
  {
   "cell_type": "code",
   "execution_count": 32,
   "id": "f34bd304-dca9-48d8-aa84-d2fab8cdef2d",
   "metadata": {},
   "outputs": [],
   "source": [
    "nth = food_df.loc[food_df.region == 'north africa']\n",
    "sth = food_df.loc[food_df.region == 'south africa']\n",
    "est = food_df.loc[food_df.region == 'east africa']\n",
    "ctl = food_df.loc[food_df.region == 'central africa']"
   ]
  },
  {
   "cell_type": "code",
   "execution_count": null,
   "id": "6002906c-cf9a-4cd7-966c-ac3bfd92d41b",
   "metadata": {},
   "outputs": [
    {
     "name": "stderr",
     "output_type": "stream",
     "text": [
      "C:\\anaconda\\lib\\site-packages\\seaborn\\_decorators.py:36: FutureWarning: Pass the following variable as a keyword arg: x. From version 0.12, the only valid positional argument will be `data`, and passing other arguments without an explicit keyword will result in an error or misinterpretation.\n",
      "  warnings.warn(\n"
     ]
    },
    {
     "data": {
      "image/png": "[encoded data removed]",
      "text/plain": [
       "<Figure size 432x288 with 1 Axes>"
      ]
     },
     "metadata": {},
     "output_type": "display_data"
    }
   ],
   "source": [
    "sns.countplot('year', data = nth)\n",
    "plt.title('Total Game Sales Each Year')\n",
    "plt.show()"
   ]
  },
  {
   "cell_type": "code",
   "execution_count": null,
   "id": "d8cabd9e-552f-4410-9e3a-e9150ddde809",
   "metadata": {},
   "outputs": [
    {
     "ename": "SyntaxError",
     "evalue": "invalid syntax (Temp/ipykernel_17856/76412882.py, line 1)",
     "output_type": "error",
     "traceback": [
      "\u001b[1;36m  File \u001b[1;32m\"C:\\Users\\ADENIJ~1\\AppData\\Local\\Temp/ipykernel_17856/76412882.py\"\u001b[1;36m, line \u001b[1;32m1\u001b[0m\n\u001b[1;33m    get the produce count in each year for each region\u001b[0m\n\u001b[1;37m        ^\u001b[0m\n\u001b[1;31mSyntaxError\u001b[0m\u001b[1;31m:\u001b[0m invalid syntax\n"
     ]
    }
   ],
   "source": [
    "get the produce count in each year for each region\n",
    "using data analysis of video game sales-compare produce count for each year based on different regions\n",
    "check the total produce count"
   ]
  }
 ],
 "metadata": {
  "kernelspec": {
   "display_name": "Python 3 (ipykernel)",
   "language": "python",
   "name": "python3"
  },
  "language_info": {
   "codemirror_mode": {
    "name": "ipython",
    "version": 3
   },
   "file_extension": ".py",
   "mimetype": "text/x-python",
   "name": "python",
   "nbconvert_exporter": "python",
   "pygments_lexer": "ipython3",
   "version": "3.9.7"
  }
 },
 "nbformat": 4,
 "nbformat_minor": 5
}
